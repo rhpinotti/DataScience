{
 "cells": [
  {
   "cell_type": "markdown",
   "metadata": {
    "collapsed": true
   },
   "source": [
    "#### Solução simples para web scrapping e geração de word cloud.\n",
    "\n",
    "De forma simplificada, esta solução busca o texto de um artigo online e gera a nuvem de palavras enfatizando os termos que mais aparecem no texto.\n",
    "\n",
    "Para esta solução foram utilizados: *urllib*, *BeautifulSoup*, *WordCloud*, *nltk*, *matplotlib*.\n",
    "\n",
    "Utilizando o Anaconda como IDE, a instalação dos pacotes foi realizada com os comandos abaixo:\n",
    "* conda install beautifulsoup4.\n",
    "* conda install -c conda-forge wordcloud"
   ]
  },
  {
   "cell_type": "code",
   "execution_count": null,
   "metadata": {
    "collapsed": true
   },
   "outputs": [],
   "source": [
    "# Importação dos pacotes\n",
    "from urllib.request import urlopen\n",
    "from bs4 import BeautifulSoup\n",
    "import nltk\n",
    "from wordcloud import WordCloud\n",
    "import matplotlib.pyplot as plt"
   ]
  },
  {
   "cell_type": "code",
   "execution_count": null,
   "metadata": {
    "collapsed": true
   },
   "outputs": [],
   "source": [
    "# Download da página que contém o artigo\n",
    "html = urlopen(\"http://cio.com.br/opiniao/2018/07/05/a-inteligencia-artificial-esta-perto-do-seu-ponto-de-inflexao/\")\n",
    "# Criação do objeto\n",
    "res = BeautifulSoup(html.read(),\"html5lib\")\n",
    "# Busca pelo conteúdo na div texto\n",
    "tags = res.findAll(\"div\", {\"class\": \"texto\"})\n",
    "texto = \"\"\n",
    "# Removendo as tags html do texto\n",
    "for tag in tags:\n",
    "    #print(tag.getText())\n",
    "    texto += tag.getText()\n",
    "#print(texto)"
   ]
  },
  {
   "cell_type": "code",
   "execution_count": null,
   "metadata": {
    "collapsed": true
   },
   "outputs": [],
   "source": [
    "# Salvando as stopwords em portugês\n",
    "stopwords = nltk.corpus.stopwords.words('portuguese')\n",
    "#stopwords"
   ]
  },
  {
   "cell_type": "code",
   "execution_count": null,
   "metadata": {
    "collapsed": true
   },
   "outputs": [],
   "source": [
    "# Função para remover as stopwords do texto e eliminando os parágrafos\n",
    "def RemoverStopWords(texto):\n",
    "    texto = texto.lower()\n",
    "    stopwords = set(nltk.corpus.stopwords.words('portuguese'))\n",
    "    palavras = [i for i in texto.split() if not i in stopwords]\n",
    "    return (\" \".join(palavras))"
   ]
  },
  {
   "cell_type": "code",
   "execution_count": null,
   "metadata": {
    "collapsed": true
   },
   "outputs": [],
   "source": [
    "# Chamada à função\n",
    "texto2 = RemoverStopWords(texto)\n",
    "#texto2"
   ]
  },
  {
   "cell_type": "code",
   "execution_count": null,
   "metadata": {},
   "outputs": [],
   "source": [
    "# Montagem da wordcloud\n",
    "wc = WordCloud(collocations=False,\n",
    "              background_color=\"#FDFDE4\")\n",
    "wc.generate(texto2)\n",
    "# Plotando a wordcloud\n",
    "plt.figure(figsize=(10,10))\n",
    "plt.imshow(wc, interpolation=\"bilinear\")\n",
    "plt.axis(\"off\")\n",
    "plt.show()"
   ]
  },
  {
   "cell_type": "markdown",
   "metadata": {},
   "source": [
    "### Artigo utilizado:\n",
    "\n",
    "#### A Inteligência Artificial está perto do seu ponto de inflexão (Cezar Taurion).\n",
    "* http://cio.com.br/opiniao/2018/07/05/a-inteligencia-artificial-esta-perto-do-seu-ponto-de-inflexao/\n",
    "\n",
    "### Referências:\n",
    "\n",
    "* https://imasters.com.br/back-end/como-fazer-web-scraping-com-python\n",
    "* https://github.com/amueller/word_cloud\n",
    "* http://minerandodados.com.br/index.php/2017/06/22/mineracao-de-textos-7-tecnicas/"
   ]
  }
 ],
 "metadata": {
  "kernelspec": {
   "display_name": "Python 3",
   "language": "python",
   "name": "python3"
  },
  "language_info": {
   "codemirror_mode": {
    "name": "ipython",
    "version": 3
   },
   "file_extension": ".py",
   "mimetype": "text/x-python",
   "name": "python",
   "nbconvert_exporter": "python",
   "pygments_lexer": "ipython3",
   "version": "3.6.3"
  }
 },
 "nbformat": 4,
 "nbformat_minor": 2
}
